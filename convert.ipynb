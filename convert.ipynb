{
 "cells": [
  {
   "cell_type": "code",
   "execution_count": null,
   "metadata": {
    "collapsed": true
   },
   "outputs": [],
   "source": [
    "import os"
   ]
  },
  {
   "cell_type": "code",
   "execution_count": null,
   "metadata": {
    "collapsed": true
   },
   "outputs": [],
   "source": [
    "music_folder = \"/Users/gijs/Data/music/renamed\"\n",
    "output_folder = \"/Users/gijs/Data/music/dataset\"\n",
    "samples = 8000 # or 44100 or 22050\n",
    "codec = \"pcm_u8\"  # check  $ ffmpeg -codecs"
   ]
  },
  {
   "cell_type": "code",
   "execution_count": null,
   "metadata": {
    "collapsed": false
   },
   "outputs": [],
   "source": [
    "music_files = sorted(os.listdir(music_folder))"
   ]
  },
  {
   "cell_type": "code",
   "execution_count": null,
   "metadata": {
    "collapsed": false
   },
   "outputs": [],
   "source": [
    "for index, music_file in enumerate(music_files):\n",
    "    input_ = os.path.join(music_folder, music_file)\n",
    "    output = os.path.join(output_folder, str(index) + \".wav\")\n",
    "    !ffmpeg -n -i \"{input_}\" -ac 1 -acodec pcm_u8 -ar {22050} \"{output}\" > /dev/null"
   ]
  },
  {
   "cell_type": "code",
   "execution_count": null,
   "metadata": {
    "collapsed": true
   },
   "outputs": [],
   "source": []
  }
 ],
 "metadata": {
  "kernelspec": {
   "display_name": "Python 2",
   "language": "python",
   "name": "python2"
  },
  "language_info": {
   "codemirror_mode": {
    "name": "ipython",
    "version": 2
   },
   "file_extension": ".py",
   "mimetype": "text/x-python",
   "name": "python",
   "nbconvert_exporter": "python",
   "pygments_lexer": "ipython2",
   "version": "2.7.11"
  }
 },
 "nbformat": 4,
 "nbformat_minor": 0
}
